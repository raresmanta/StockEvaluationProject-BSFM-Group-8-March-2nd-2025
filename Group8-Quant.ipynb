{
 "cells": [
  {
   "cell_type": "markdown",
   "id": "037ddcff-3aa8-4568-b7cb-cce197416a7b",
   "metadata": {},
   "source": [
    "After importing the data from Bloomberg Terminal to a PDF, I converted it to Excel and used the following script to transform the Excel file into a .csv file for importing into python:"
   ]
  },
  {
   "cell_type": "code",
   "execution_count": null,
   "id": "96b41060-6ebb-4938-a825-202247c61a3b",
   "metadata": {},
   "outputs": [],
   "source": [
    "import pandas as pd\n",
    "\n",
    "# Load the Excel file\n",
    "excel_file = \"bloomberg_data.xlsx\"\n",
    "sheets = pd.read_excel(excel_file, sheet_name=None)  # Load all sheets\n",
    "\n",
    "# Combine all sheets into one DataFrame\n",
    "df_combined = pd.concat(sheets.values(), ignore_index=True)\n",
    "\n",
    "# Save as a single CSV\n",
    "df_combined.to_csv(\"bloomberg_data.csv\", index=False)"
   ]
  }
 ],
 "metadata": {
  "kernelspec": {
   "display_name": "Python [conda env:base] *",
   "language": "python",
   "name": "conda-base-py"
  },
  "language_info": {
   "codemirror_mode": {
    "name": "ipython",
    "version": 3
   },
   "file_extension": ".py",
   "mimetype": "text/x-python",
   "name": "python",
   "nbconvert_exporter": "python",
   "pygments_lexer": "ipython3",
   "version": "3.12.7"
  }
 },
 "nbformat": 4,
 "nbformat_minor": 5
}
