{
 "cells": [
  {
   "cell_type": "markdown",
   "id": "037ddcff-3aa8-4568-b7cb-cce197416a7b",
   "metadata": {},
   "source": [
    "### After importing the data from Bloomberg Terminal to a PDF, I converted it to Excel and used the following script to transform the Excel file into a .csv file for importing into python:"
   ]
  },
  {
   "cell_type": "code",
   "execution_count": 22,
   "id": "96b41060-6ebb-4938-a825-202247c61a3b",
   "metadata": {},
   "outputs": [],
   "source": [
    "import pandas as pd\n",
    "\n",
    "# Load the Excel file\n",
    "excel_file = \"bloomberg_data.xlsx\"\n",
    "sheets = pd.read_excel(excel_file, sheet_name=None)  # Load all sheets\n",
    "\n",
    "# Combine all sheets into one DataFrame\n",
    "df_combined = pd.concat(sheets.values(), ignore_index=True)\n",
    "\n",
    "# Save as a single CSV\n",
    "df_combined.to_csv(\"bloomberg_data.csv\", index=False)"
   ]
  },
  {
   "cell_type": "markdown",
   "id": "dc0b3af4-94e6-4053-ae95-fff884d761c2",
   "metadata": {},
   "source": [
    "The \"Years\" category was improperly imported into the Excel, so they had to be manually modified in the .csv so they could be cleaned properly."
   ]
  },
  {
   "cell_type": "markdown",
   "id": "53a05c15-862e-4b15-813e-dab3ec8cb443",
   "metadata": {},
   "source": [
    "### Clean the data"
   ]
  },
  {
   "cell_type": "code",
   "execution_count": 26,
   "id": "4629e419-b59f-465b-971d-c62d8e483003",
   "metadata": {
    "scrolled": true
   },
   "outputs": [],
   "source": [
    "import pandas as pd\n",
    "\n",
    "df = pd.read_csv(\"bloomberg_data.csv\")\n",
    "\n",
    "# Drop empty columns\n",
    "df = df.dropna(axis=1, how=\"all\")\n",
    "\n",
    "# Keep only rows containing important financial data\n",
    "df_filtered = df[\n",
    "    df.iloc[:, 0].str.contains(\n",
    "        \"Year|Revenue|Net Income|EPS|EBITDA|P/E|Cash from Operations|Free Cash Flow|Market Capitalization\", \n",
    "        na=False\n",
    "    )\n",
    "]\n",
    "\n",
    "# Rename first column to \"Metric\"\n",
    "df_filtered = df_filtered.rename(columns={df_filtered.columns[0]: \"Metric\"})\n",
    "\n",
    "# Save cleaned data\n",
    "df_filtered.to_csv(\"bloomberg_cleaned.csv\", index=False)\n"
   ]
  }
 ],
 "metadata": {
  "kernelspec": {
   "display_name": "Python [conda env:base] *",
   "language": "python",
   "name": "conda-base-py"
  },
  "language_info": {
   "codemirror_mode": {
    "name": "ipython",
    "version": 3
   },
   "file_extension": ".py",
   "mimetype": "text/x-python",
   "name": "python",
   "nbconvert_exporter": "python",
   "pygments_lexer": "ipython3",
   "version": "3.12.7"
  }
 },
 "nbformat": 4,
 "nbformat_minor": 5
}
